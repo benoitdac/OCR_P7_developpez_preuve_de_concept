{
 "cells": [
  {
   "cell_type": "markdown",
   "metadata": {
    "id": "sg6JEefhWnHw"
   },
   "source": [
    "<h1 STYLE=\"padding-left:1em;text-align: center;\">Projet 07 : Développez une preuve de concept </h1>"
   ]
  },
  {
   "cell_type": "markdown",
   "metadata": {
    "id": "9Wj09KbQWtuw"
   },
   "source": [
    "#  Introduction  \n",
    "<p STYLE=\"padding-left:1em;text-align:justify;\">Ce projet porte sur la recherche d’un nouveau concept et son prototypage, à partir de l’état de l’art du domaine, permettant d’améliorer les performances obtenues sur la méthode utilisée mise en production chez un client."
   ]
  },
  {
   "cell_type": "markdown",
   "metadata": {
    "id": "Dj4mJWCeW7i4"
   },
   "source": [
    "# Sommaire\n",
    "<a href=\"#1\" STYLE=\"padding-left:1em;color:black\"><b>Etape 1 : Importation des librairies </b></a><br>\n",
    "<a href=\"#2\" STYLE=\"padding-left:1em;color:black\"><b>Etape 2 : Baseline : CNN+Transfert learning</b></a><br>\n",
    "<a href=\"#2.1\" STYLE=\"padding-left:2em;color:black\">2.1 Modèle InceptionResNetV2 : Dataset : 'dogs'</a><br>\n",
    "<a href=\"#2.2\" STYLE=\"padding-left:2em;color:black\">2.2 Modèle InceptionResNetV2 : Dataset : 'birds'</a><br>\n",
    "<a href=\"#3\" STYLE=\"padding-left:1em;color:black\"><b>Etape 3 : Vision Transformers</b></a><br>"
   ]
  },
  {
   "cell_type": "markdown",
   "metadata": {
    "id": "4CXJyXjCb1fU"
   },
   "source": [
    "# <a STYLE=\"color:black\" id=\"1\">Etape 1 : Importation des librairies et oréparation des répertoires"
   ]
  },
  {
   "cell_type": "code",
   "execution_count": 1,
   "metadata": {
    "colab": {
     "base_uri": "https://localhost:8080/"
    },
    "executionInfo": {
     "elapsed": 21512,
     "status": "ok",
     "timestamp": 1650720008541,
     "user": {
      "displayName": "Benoit Da Costa",
      "userId": "10822162243447519168"
     },
     "user_tz": -120
    },
    "id": "HfyyPtX8-igD",
    "outputId": "2e38b566-da0d-4704-e5a8-c2564fa9ead5"
   },
   "outputs": [
    {
     "name": "stdout",
     "output_type": "stream",
     "text": [
      "Mounted at /content/drive\n"
     ]
    }
   ],
   "source": [
    "from google.colab import drive\n",
    "drive.mount('/content/drive')"
   ]
  },
  {
   "cell_type": "code",
   "execution_count": 2,
   "metadata": {
    "executionInfo": {
     "elapsed": 2885,
     "status": "ok",
     "timestamp": 1650720011412,
     "user": {
      "displayName": "Benoit Da Costa",
      "userId": "10822162243447519168"
     },
     "user_tz": -120
    },
    "id": "qY3BVSaIL99w"
   },
   "outputs": [],
   "source": [
    "import os\n",
    "from time import time\n",
    "import pandas as pd\n",
    "import numpy as np\n",
    "import matplotlib.pyplot as plt\n",
    "from matplotlib.image import imread\n",
    "from pathlib import Path\n",
    "\n",
    "from joblib import parallel_backend, Parallel, delayed , dump , load\n",
    "\n",
    "import functools\n",
    "\n",
    "from numba import cuda \n",
    "\n",
    "import tensorflow as tf\n",
    "from tensorflow import keras\n",
    "from keras import layers , Model\n",
    "from keras.preprocessing.image import ImageDataGenerator\n",
    "from keras.models import Sequential, load_model, save_model\n",
    "from keras.layers import Activation, Dropout, Flatten, Dense, Conv2D, MaxPooling2D, BatchNormalization, GlobalAveragePooling2D\n",
    "from keras.callbacks import EarlyStopping\n",
    "from keras.preprocessing import image\n",
    "from keras.callbacks import EarlyStopping\n",
    "\n",
    "from sklearn.metrics import classification_report,confusion_matrix\n",
    "\n",
    "pd.set_option('display.max_columns',200)\n",
    "pd.set_option('display.max_colwidth', 200)"
   ]
  },
  {
   "cell_type": "code",
   "execution_count": 3,
   "metadata": {
    "executionInfo": {
     "elapsed": 10,
     "status": "ok",
     "timestamp": 1650720011413,
     "user": {
      "displayName": "Benoit Da Costa",
      "userId": "10822162243447519168"
     },
     "user_tz": -120
    },
    "id": "EXM65U9zYrGR"
   },
   "outputs": [],
   "source": [
    "repertory = os.path.abspath('')+'/drive/MyDrive/Colab Notebooks/P07/'\n",
    "repertory = repertory if os.path.isdir(repertory) else os.path.abspath('')\n",
    "path_dir_dogs = repertory+'/Dataset/Dataset_dogs/'\n",
    "path_dir_birds = repertory+'/Dataset/Dataset_birds/'"
   ]
  },
  {
   "cell_type": "code",
   "execution_count": 4,
   "metadata": {
    "executionInfo": {
     "elapsed": 9,
     "status": "ok",
     "timestamp": 1650720011413,
     "user": {
      "displayName": "Benoit Da Costa",
      "userId": "10822162243447519168"
     },
     "user_tz": -120
    },
    "id": "kcNCK7EaYrGS"
   },
   "outputs": [],
   "source": [
    "def choice_path(data = 'dogs', aug_data = True):\n",
    "\n",
    "    path_dir = repertory+'/Dataset/Dataset_'+data+'/'\n",
    "\n",
    "    train_path = path_dir+'train'\n",
    "    test_path = path_dir+'test'\n",
    "\n",
    "    val_path = path_dir+'val_set'\n",
    "    pred_path = path_dir+'pred_set'\n",
    "    \n",
    "    augment_data = '_aug_data' if aug_data == True else ''\n",
    "\n",
    "    models_path = repertory+'/Models/Models_'+data + augment_data+'/'\n",
    "    results_path = repertory+'/Results/Results_'+data + augment_data+'/'\n",
    "    \n",
    "    return path_dir, train_path, test_path , val_path, pred_path , models_path , results_path \n",
    "\n",
    "path_dir, train_path, test_path , val_path, pred_path , models_path , results_path  = choice_path('dogs', aug_data = False)"
   ]
  },
  {
   "cell_type": "markdown",
   "metadata": {
    "id": "1zIw7rsveF-d"
   },
   "source": [
    "# <a STYLE=\"color:black\" id=\"2\">Etape 2 : Baseline : CNN+Transfert learning</a> \n",
    "<p STYLE=\"padding-left:1em ; color:blue;text-align: justify;\"><b> Dans cette partie, nous allons re-utiliser le modèle \"InceptionResNetV2\" qui est celui où nous avons obtenu les meilleurs résultats en termes de score de prédiction pour la classification d'image lors du projet précédent.<br>Contrairement au projet précédent, je n’ai pas appliqué la méthode de « Data Augmentation » afin d’augmenter artificiellement le nombre d’image par classes en les multipliant et en appliquant diverses transformations (rotation, flip, zoom, …), car je n’ai pas pu l’implémenter dans le modèle de Vision Transformers</b></p> "
   ]
  },
  {
   "cell_type": "markdown",
   "metadata": {
    "id": "AiQrwnVpeuRy"
   },
   "source": [
    "## <a STYLE=\"padding-left:1em ; color:blue;text-align: justify;\" id=\"2.1\">2.1 Modèle InceptionResNetV2 : Dataset : 'dogs'</a> \n",
    "\n"
   ]
  },
  {
   "cell_type": "code",
   "execution_count": 5,
   "metadata": {
    "executionInfo": {
     "elapsed": 8,
     "status": "ok",
     "timestamp": 1650720011414,
     "user": {
      "displayName": "Benoit Da Costa",
      "userId": "10822162243447519168"
     },
     "user_tz": -120
    },
    "id": "JIRN-668BrcZ"
   },
   "outputs": [],
   "source": [
    "def plot_metrics(model):\n",
    "\n",
    "    losses = model if isinstance(model, pd.DataFrame) else pd.DataFrame(model.history.history) \n",
    "    acc = losses['accuracy']\n",
    "    val_acc = losses['val_accuracy']\n",
    "\n",
    "    loss = losses['loss']\n",
    "    val_loss = losses['val_loss']\n",
    "\n",
    "    plt.figure(figsize=(8, 4))\n",
    "    plt.subplot(1, 2, 1)\n",
    "    plt.plot(acc.index, acc, label='Training Accuracy')\n",
    "    plt.plot(val_acc.index, val_acc, label='Validation Accuracy')\n",
    "    plt.legend(loc='best')\n",
    "    plt.title('Training and Validation Accuracy')\n",
    "\n",
    "    plt.subplot(1, 2, 2)\n",
    "    plt.plot(loss.index, loss, label='Training Loss')\n",
    "    plt.plot(val_loss.index, val_loss, label='Validation Loss')\n",
    "    plt.legend(loc='best')\n",
    "    plt.title('Training and Validation Loss')\n",
    "    plt.show()"
   ]
  },
  {
   "cell_type": "code",
   "execution_count": 6,
   "metadata": {
    "executionInfo": {
     "elapsed": 8,
     "status": "ok",
     "timestamp": 1650720011414,
     "user": {
      "displayName": "Benoit Da Costa",
      "userId": "10822162243447519168"
     },
     "user_tz": -120
    },
    "id": "GzUJiYTDIlxl"
   },
   "outputs": [],
   "source": [
    "def process_files(train_path, test_path , img_shape):\n",
    "\n",
    "    train_dataset = tf.keras.utils.image_dataset_from_directory(train_path,label_mode='categorical',shuffle=True,batch_size=batch_size,image_size=img_shape[:2])\n",
    "    validation_dataset = tf.keras.utils.image_dataset_from_directory(test_path,label_mode='categorical',shuffle= False , batch_size=batch_size,image_size=img_shape[:2])\n",
    "\n",
    "    class_names = train_dataset.class_names\n",
    "\n",
    "    AUTOTUNE = tf.data.AUTOTUNE\n",
    "    train_dataset = train_dataset.prefetch(buffer_size=AUTOTUNE)\n",
    "    validation_dataset = validation_dataset.prefetch(buffer_size=AUTOTUNE)\n",
    "\n",
    "    name = 'dogs' if 'dogs' in path_dir else 'birds'\n",
    "\n",
    "    dump(class_names , models_path+'classes_'+name+'.joblib',compress = True) \n",
    "\n",
    "    total_img_train = 0\n",
    "    total_img_test = 0\n",
    "\n",
    "    for root, dirs, files in os.walk(train_path):\n",
    "        total_img_train += len(files)\n",
    "\n",
    "    for root, dirs, files in os.walk(test_path):\n",
    "        total_img_test += len(files)\n",
    "\n",
    "    steps_per_epoch_train = round(total_img_train/batch_size+0.5)\n",
    "    steps_per_epoch_test = round(total_img_test /batch_size+0.5)\n",
    "    print(steps_per_epoch_train,steps_per_epoch_test)\n",
    "\n",
    "    return train_dataset , validation_dataset, steps_per_epoch_train, steps_per_epoch_test , class_names"
   ]
  },
  {
   "cell_type": "code",
   "execution_count": 7,
   "metadata": {
    "executionInfo": {
     "elapsed": 8,
     "status": "ok",
     "timestamp": 1650720011415,
     "user": {
      "displayName": "Benoit Da Costa",
      "userId": "10822162243447519168"
     },
     "user_tz": -120
    },
    "id": "Ndg7mZ0z0tJn"
   },
   "outputs": [],
   "source": [
    "def model_build(base_model, seq_model, class_names, img_shape , preprocess_input = None , aug_data = True  ) : \n",
    "    \n",
    "    data_augmentation = tf.keras.Sequential([layers.Resizing(img_shape[0], img_shape[1]),\n",
    "                                          layers.RandomFlip(\"horizontal\"),\n",
    "                                          layers.RandomWidth(0.2),\n",
    "                                          layers.RandomHeight(0.2),\n",
    "                                          layers.RandomRotation(0.2),\n",
    "                                          layers.RandomZoom(0.2),\n",
    "                                          layers.RandomTranslation(height_factor=0.2, width_factor=0.2),\n",
    "                                          layers.RandomContrast(factor=0.2) ] )\n",
    "    normalization_layer = layers.Rescaling(1./255)\n",
    "\n",
    "    input = tf.keras.Input(shape=img_shape)\n",
    "    x = data_augmentation(input) if aug_data == True else input\n",
    "    x = preprocess_input(x) if preprocess_input is not None else normalization_layer(x) \n",
    "    x = base_model(x, training=False)\n",
    "    x = seq_model(x)\n",
    "    \n",
    "    outputs = layers.Dense(len(class_names), activation='softmax')(x)\n",
    "    \n",
    "    model = keras.Model(input, outputs)\n",
    "    model.compile(loss='categorical_crossentropy',optimizer='adam',metrics=['accuracy'])\n",
    "    return model"
   ]
  },
  {
   "cell_type": "code",
   "execution_count": 8,
   "metadata": {
    "executionInfo": {
     "elapsed": 7,
     "status": "ok",
     "timestamp": 1650720011415,
     "user": {
      "displayName": "Benoit Da Costa",
      "userId": "10822162243447519168"
     },
     "user_tz": -120
    },
    "id": "Aqre1lhHCtau"
   },
   "outputs": [],
   "source": [
    "def fit_model(model ,  model_name , train_dataset , validation_dataset ):\n",
    "    if os.path.isfile(models_path+str(model_name)+'.h5'): \n",
    "        model = load_model(models_path+str(model_name)+'.h5')\n",
    "        results = load(results_path+'score_'+str(model_name)+'.joblib')\n",
    "        model.summary()\n",
    "        plot_metrics(results)\n",
    "\n",
    "    else :\n",
    "        model.summary()\n",
    "        early_stop = EarlyStopping(monitor='val_loss', patience=5)\n",
    "        model.fit(train_dataset, steps_per_epoch=steps_per_epoch_train, epochs=100, validation_data=validation_dataset,\n",
    "                 validation_steps=steps_per_epoch_test, callbacks=[early_stop])\n",
    "                 \n",
    "        results = pd.DataFrame(model.history.history)\n",
    "        plot_metrics(model)\n",
    "        \n",
    "        dump(results,results_path+'score_'+str(model_name)+'.joblib',compress = True)\n",
    "        model.save(models_path+str(model_name)+'.h5') \n",
    "    \n",
    "    return model , results"
   ]
  },
  {
   "cell_type": "code",
   "execution_count": 9,
   "metadata": {
    "colab": {
     "base_uri": "https://localhost:8080/"
    },
    "executionInfo": {
     "elapsed": 32879,
     "status": "ok",
     "timestamp": 1650720044287,
     "user": {
      "displayName": "Benoit Da Costa",
      "userId": "10822162243447519168"
     },
     "user_tz": -120
    },
    "id": "zAp9mQfN9HP7",
    "outputId": "176cb0a5-b766-45be-8097-f026eaf44fda"
   },
   "outputs": [
    {
     "name": "stdout",
     "output_type": "stream",
     "text": [
      "Found 16376 files belonging to 120 classes.\n",
      "Found 4085 files belonging to 120 classes.\n",
      "256 64\n"
     ]
    }
   ],
   "source": [
    "batch_size = 64\n",
    "img_shape = (299,299,3)\n",
    "new_imput = keras.Input(shape=(299,299,3))\n",
    "\n",
    "path_dir, train_path, test_path , val_path, pred_path , models_path , results_path = choice_path('dogs',  aug_data = False)\n",
    "train_dataset, validation_dataset, steps_per_epoch_train, steps_per_epoch_test,class_names = process_files(train_path, test_path , img_shape)"
   ]
  },
  {
   "cell_type": "code",
   "execution_count": 10,
   "metadata": {
    "colab": {
     "base_uri": "https://localhost:8080/"
    },
    "executionInfo": {
     "elapsed": 13903,
     "status": "ok",
     "timestamp": 1650720058186,
     "user": {
      "displayName": "Benoit Da Costa",
      "userId": "10822162243447519168"
     },
     "user_tz": -120
    },
    "id": "hzTgQEaWGAJ-",
    "outputId": "3af87234-cd9c-4eb6-83a5-5933b3d84898"
   },
   "outputs": [
    {
     "name": "stdout",
     "output_type": "stream",
     "text": [
      "Downloading data from https://storage.googleapis.com/tensorflow/keras-applications/inception_resnet_v2/inception_resnet_v2_weights_tf_dim_ordering_tf_kernels_notop.h5\n",
      "219062272/219055592 [==============================] - 6s 0us/step\n",
      "219070464/219055592 [==============================] - 6s 0us/step\n"
     ]
    }
   ],
   "source": [
    "from keras.applications.inception_resnet_v2 import InceptionResNetV2 , preprocess_input,  decode_predictions\n",
    "\n",
    "preprocess_input_InceptionResNetV2 = preprocess_input\n",
    "\n",
    "model_base_InceptionResNetV2 = InceptionResNetV2(weights=\"imagenet\", include_top=False,input_tensor=new_imput,input_shape=img_shape )\n",
    "model_base_InceptionResNetV2.trainable = False\n",
    "# model_base_InceptionResNetV2.summary()\n",
    "\n",
    "seq_InceptionResNetV2 = tf.keras.Sequential([GlobalAveragePooling2D()])\n",
    "\n",
    "model_InceptionResNetV2 = model_build(model_base_InceptionResNetV2 ,seq_InceptionResNetV2,class_names, img_shape , preprocess_input_InceptionResNetV2 , aug_data = False )"
   ]
  },
  {
   "cell_type": "code",
   "execution_count": 11,
   "metadata": {
    "colab": {
     "base_uri": "https://localhost:8080/",
     "height": 732
    },
    "executionInfo": {
     "elapsed": 13751,
     "status": "ok",
     "timestamp": 1650720071925,
     "user": {
      "displayName": "Benoit Da Costa",
      "userId": "10822162243447519168"
     },
     "user_tz": -120
    },
    "id": "L6ookE5FGAJ-",
    "outputId": "cc8c42bf-7866-451c-8300-de9f64b32c2a",
    "scrolled": false
   },
   "outputs": [
    {
     "name": "stdout",
     "output_type": "stream",
     "text": [
      "Model: \"model_1\"\n",
      "_________________________________________________________________\n",
      " Layer (type)                Output Shape              Param #   \n",
      "=================================================================\n",
      " input_4 (InputLayer)        [(None, 299, 299, 3)]     0         \n",
      "                                                                 \n",
      " tf.math.truediv (TFOpLambda  (None, 299, 299, 3)      0         \n",
      " )                                                               \n",
      "                                                                 \n",
      " tf.math.subtract (TFOpLambd  (None, 299, 299, 3)      0         \n",
      " a)                                                              \n",
      "                                                                 \n",
      " inception_resnet_v2 (Functi  (None, 8, 8, 1536)       54336736  \n",
      " onal)                                                           \n",
      "                                                                 \n",
      " sequential_2 (Sequential)   (None, 1536)              0         \n",
      "                                                                 \n",
      " dense_1 (Dense)             (None, 120)               184440    \n",
      "                                                                 \n",
      "=================================================================\n",
      "Total params: 54,521,176\n",
      "Trainable params: 184,440\n",
      "Non-trainable params: 54,336,736\n",
      "_________________________________________________________________\n"
     ]
    },
    {
     "data": {
      "image/png": "[encoded data removed]",
      "text/plain": [
       "<Figure size 576x288 with 2 Axes>"
      ]
     },
     "metadata": {
      "needs_background": "light"
     },
     "output_type": "display_data"
    },
    {
     "name": "stdout",
     "output_type": "stream",
     "text": [
      "CPU times: user 6.84 s, sys: 439 ms, total: 7.28 s\n",
      "Wall time: 13.6 s\n"
     ]
    }
   ],
   "source": [
    "%%time\n",
    "transfert_InceptionResNetV2, score_transfert_InceptionResNetV2 = fit_model(model_InceptionResNetV2, 'transfert_InceptionResNetV2',train_dataset , validation_dataset)"
   ]
  },
  {
   "cell_type": "markdown",
   "metadata": {},
   "source": [
    "<p STYLE=\"padding-left:1em ; color:blue;text-align: justify;\"><b> Réglage fin"
   ]
  },
  {
   "cell_type": "code",
   "execution_count": 12,
   "metadata": {
    "colab": {
     "base_uri": "https://localhost:8080/",
     "height": 732
    },
    "executionInfo": {
     "elapsed": 22937,
     "status": "ok",
     "timestamp": 1650720094848,
     "user": {
      "displayName": "Benoit Da Costa",
      "userId": "10822162243447519168"
     },
     "user_tz": -120
    },
    "id": "v4JJMH87lzdV",
    "outputId": "a2b72eff-9e88-4dd2-ee7b-36423afeb715"
   },
   "outputs": [
    {
     "name": "stdout",
     "output_type": "stream",
     "text": [
      "Model: \"model_1\"\n",
      "_________________________________________________________________\n",
      " Layer (type)                Output Shape              Param #   \n",
      "=================================================================\n",
      " input_4 (InputLayer)        [(None, 299, 299, 3)]     0         \n",
      "                                                                 \n",
      " tf.math.truediv (TFOpLambda  (None, 299, 299, 3)      0         \n",
      " )                                                               \n",
      "                                                                 \n",
      " tf.math.subtract (TFOpLambd  (None, 299, 299, 3)      0         \n",
      " a)                                                              \n",
      "                                                                 \n",
      " inception_resnet_v2 (Functi  (None, 8, 8, 1536)       54336736  \n",
      " onal)                                                           \n",
      "                                                                 \n",
      " sequential_2 (Sequential)   (None, 1536)              0         \n",
      "                                                                 \n",
      " dense_1 (Dense)             (None, 120)               184440    \n",
      "                                                                 \n",
      "=================================================================\n",
      "Total params: 54,521,176\n",
      "Trainable params: 54,460,632\n",
      "Non-trainable params: 60,544\n",
      "_________________________________________________________________\n"
     ]
    },
    {
     "data": {
      "image/png": "[encoded data removed]",
      "text/plain": [
       "<Figure size 576x288 with 2 Axes>"
      ]
     },
     "metadata": {
      "needs_background": "light"
     },
     "output_type": "display_data"
    },
    {
     "name": "stdout",
     "output_type": "stream",
     "text": [
      "CPU times: user 8.99 s, sys: 1.21 s, total: 10.2 s\n",
      "Wall time: 22.8 s\n"
     ]
    }
   ],
   "source": [
    "%%time\n",
    "model_base_InceptionResNetV2.trainable = True\n",
    "transfert_InceptionResNetV2.compile(optimizer=keras.optimizers.Adam(1e-5),# Low learning rate\n",
    "                                    loss='categorical_crossentropy',metrics=['accuracy'])\n",
    "\n",
    "transfert_InceptionResNetV2_ajust, score_transfert_InceptionResNetV2_ajust = fit_model(transfert_InceptionResNetV2,'transfert_InceptionResNetV2_ajust',train_dataset , validation_dataset)                                                                                     "
   ]
  },
  {
   "cell_type": "markdown",
   "metadata": {},
   "source": [
    "<p STYLE=\"padding-left:1em ; color:blue;text-align: justify;\"><b> Nous observons un léger sur-apprentissage du modèle, dû probablement à l'absence de la méthode de \"Data Augmentation\" qui permet d'augmenter artificiellement le nombre d'images par classes. Pour limiter cela, nous allons ajouter une couche de <span STYLE=\"color:gray;\"><i> Dropout</i></span> avant la couche de neurones de sorties."
   ]
  },
  {
   "cell_type": "code",
   "execution_count": 13,
   "metadata": {
    "colab": {
     "base_uri": "https://localhost:8080/"
    },
    "executionInfo": {
     "elapsed": 19,
     "status": "ok",
     "timestamp": 1650720094849,
     "user": {
      "displayName": "Benoit Da Costa",
      "userId": "10822162243447519168"
     },
     "user_tz": -120
    },
    "id": "KIQUGtVE1RkH",
    "outputId": "2a033fd0-c762-466b-ea52-327e7d961dcc"
   },
   "outputs": [
    {
     "data": {
      "text/plain": [
       "(loss            0.126918\n",
       " accuracy        0.957804\n",
       " val_loss        0.278945\n",
       " val_accuracy    0.913831\n",
       " Name: 8, dtype: float64, loss            0.031929\n",
       " accuracy        0.990962\n",
       " val_loss        0.444682\n",
       " val_accuracy    0.899878\n",
       " Name: 5, dtype: float64)"
      ]
     },
     "execution_count": 13,
     "metadata": {},
     "output_type": "execute_result"
    }
   ],
   "source": [
    "score_transfert_InceptionResNetV2.iloc[-1] , score_transfert_InceptionResNetV2_ajust.iloc[-1]"
   ]
  },
  {
   "cell_type": "code",
   "execution_count": 14,
   "metadata": {
    "executionInfo": {
     "elapsed": 5482,
     "status": "ok",
     "timestamp": 1650720100316,
     "user": {
      "displayName": "Benoit Da Costa",
      "userId": "10822162243447519168"
     },
     "user_tz": -120
    },
    "id": "bOJFQBNEQ8Df"
   },
   "outputs": [],
   "source": [
    "model_base_InceptionResNetV2_02 = InceptionResNetV2(weights=\"imagenet\", include_top=False,input_tensor=new_imput,input_shape=img_shape )\n",
    "model_base_InceptionResNetV2_02.trainable = False\n",
    "# model_base_InceptionResNetV2_02.summary()\n",
    "\n",
    "seq_InceptionResNetV2_02 = tf.keras.Sequential([GlobalAveragePooling2D(),\n",
    "                                                layers.Dropout(0.3),\n",
    "                                                ])\n",
    "\n",
    "model_InceptionResNetV2_02 = model_build(model_base_InceptionResNetV2_02 ,seq_InceptionResNetV2_02,class_names, img_shape, preprocess_input_InceptionResNetV2 , aug_data = False    )"
   ]
  },
  {
   "cell_type": "code",
   "execution_count": 15,
   "metadata": {
    "colab": {
     "base_uri": "https://localhost:8080/",
     "height": 732
    },
    "executionInfo": {
     "elapsed": 18545,
     "status": "ok",
     "timestamp": 1650720118848,
     "user": {
      "displayName": "Benoit Da Costa",
      "userId": "10822162243447519168"
     },
     "user_tz": -120
    },
    "id": "1_ZMp9ZeQ8T0",
    "outputId": "9924b7fd-8885-4182-8635-a183de34cf63"
   },
   "outputs": [
    {
     "name": "stdout",
     "output_type": "stream",
     "text": [
      "Model: \"model_2\"\n",
      "_________________________________________________________________\n",
      " Layer (type)                Output Shape              Param #   \n",
      "=================================================================\n",
      " input_5 (InputLayer)        [(None, 299, 299, 3)]     0         \n",
      "                                                                 \n",
      " tf.math.truediv_1 (TFOpLamb  (None, 299, 299, 3)      0         \n",
      " da)                                                             \n",
      "                                                                 \n",
      " tf.math.subtract_1 (TFOpLam  (None, 299, 299, 3)      0         \n",
      " bda)                                                            \n",
      "                                                                 \n",
      " inception_resnet_v2 (Functi  (None, 8, 8, 1536)       54336736  \n",
      " onal)                                                           \n",
      "                                                                 \n",
      " sequential_4 (Sequential)   (None, 1536)              0         \n",
      "                                                                 \n",
      " dense_2 (Dense)             (None, 120)               184440    \n",
      "                                                                 \n",
      "=================================================================\n",
      "Total params: 54,521,176\n",
      "Trainable params: 184,440\n",
      "Non-trainable params: 54,336,736\n",
      "_________________________________________________________________\n"
     ]
    },
    {
     "data": {
      "image/png": "[encoded data removed]",
      "text/plain": [
       "<Figure size 576x288 with 2 Axes>"
      ]
     },
     "metadata": {
      "needs_background": "light"
     },
     "output_type": "display_data"
    },
    {
     "name": "stdout",
     "output_type": "stream",
     "text": [
      "CPU times: user 6.7 s, sys: 392 ms, total: 7.09 s\n",
      "Wall time: 18.7 s\n"
     ]
    }
   ],
   "source": [
    "%%time\n",
    "transfert_InceptionResNetV2_02, score_transfert_InceptionResNetV2_02 = fit_model(model_InceptionResNetV2_02, 'transfert_InceptionResNetV2_02',train_dataset , validation_dataset,)"
   ]
  },
  {
   "cell_type": "markdown",
   "metadata": {},
   "source": [
    "<p STYLE=\"padding-left:1em ; color:blue;text-align: justify;\"><b> Réglage fin"
   ]
  },
  {
   "cell_type": "code",
   "execution_count": 16,
   "metadata": {
    "colab": {
     "base_uri": "https://localhost:8080/",
     "height": 732
    },
    "executionInfo": {
     "elapsed": 24233,
     "status": "ok",
     "timestamp": 1650720143067,
     "user": {
      "displayName": "Benoit Da Costa",
      "userId": "10822162243447519168"
     },
     "user_tz": -120
    },
    "id": "9YVjqdyXQ8bE",
    "outputId": "57440fc2-e57b-4490-9524-a9ba89f6c3c0",
    "scrolled": false
   },
   "outputs": [
    {
     "name": "stdout",
     "output_type": "stream",
     "text": [
      "Model: \"model_2\"\n",
      "_________________________________________________________________\n",
      " Layer (type)                Output Shape              Param #   \n",
      "=================================================================\n",
      " input_5 (InputLayer)        [(None, 299, 299, 3)]     0         \n",
      "                                                                 \n",
      " tf.math.truediv_1 (TFOpLamb  (None, 299, 299, 3)      0         \n",
      " da)                                                             \n",
      "                                                                 \n",
      " tf.math.subtract_1 (TFOpLam  (None, 299, 299, 3)      0         \n",
      " bda)                                                            \n",
      "                                                                 \n",
      " inception_resnet_v2 (Functi  (None, 8, 8, 1536)       54336736  \n",
      " onal)                                                           \n",
      "                                                                 \n",
      " sequential_4 (Sequential)   (None, 1536)              0         \n",
      "                                                                 \n",
      " dense_2 (Dense)             (None, 120)               184440    \n",
      "                                                                 \n",
      "=================================================================\n",
      "Total params: 54,521,176\n",
      "Trainable params: 54,460,632\n",
      "Non-trainable params: 60,544\n",
      "_________________________________________________________________\n"
     ]
    },
    {
     "data": {
      "image/png": "[encoded data removed]",
      "text/plain": [
       "<Figure size 576x288 with 2 Axes>"
      ]
     },
     "metadata": {
      "needs_background": "light"
     },
     "output_type": "display_data"
    },
    {
     "name": "stdout",
     "output_type": "stream",
     "text": [
      "CPU times: user 9.06 s, sys: 966 ms, total: 10 s\n",
      "Wall time: 24.2 s\n"
     ]
    }
   ],
   "source": [
    "%%time\n",
    "model_base_InceptionResNetV2_02.trainable = True\n",
    "transfert_InceptionResNetV2_02.compile(optimizer=keras.optimizers.Adam(1e-5),# Low learning rate\n",
    "                                    loss='categorical_crossentropy',metrics=['accuracy'])\n",
    "\n",
    "transfert_InceptionResNetV2_ajust_02,score_transfert_InceptionResNetV2_ajust_02 = fit_model(transfert_InceptionResNetV2_02, 'transfert_InceptionResNetV2_ajust_02',train_dataset , validation_dataset)"
   ]
  },
  {
   "cell_type": "markdown",
   "metadata": {},
   "source": [
    "<p STYLE=\"padding-left:1em ; color:blue;text-align: justify;\"><b> L'ajout d'une couche de <span STYLE=\"color:gray;\"><i> Dropout</i></span> avant la couche de neurones de sortie ne permet pas de limiter le sur-apprentissage."
   ]
  },
  {
   "cell_type": "code",
   "execution_count": 17,
   "metadata": {
    "colab": {
     "base_uri": "https://localhost:8080/"
    },
    "executionInfo": {
     "elapsed": 22,
     "status": "ok",
     "timestamp": 1650720143068,
     "user": {
      "displayName": "Benoit Da Costa",
      "userId": "10822162243447519168"
     },
     "user_tz": -120
    },
    "id": "L_Kw1XTr1ObH",
    "outputId": "a808ccd7-87bb-48c8-b264-ea69ccaedff3"
   },
   "outputs": [
    {
     "data": {
      "text/plain": [
       "(loss            0.150798\n",
       " accuracy        0.948583\n",
       " val_loss        0.264017\n",
       " val_accuracy    0.918482\n",
       " Name: 7, dtype: float64, loss            0.027726\n",
       " accuracy        0.992062\n",
       " val_loss        0.403383\n",
       " val_accuracy    0.912117\n",
       " Name: 5, dtype: float64)"
      ]
     },
     "execution_count": 17,
     "metadata": {},
     "output_type": "execute_result"
    }
   ],
   "source": [
    "score_transfert_InceptionResNetV2_02.iloc[-1] , score_transfert_InceptionResNetV2_ajust_02.iloc[-1]"
   ]
  },
  {
   "cell_type": "markdown",
   "metadata": {
    "id": "QIb6Wp-u2dLQ"
   },
   "source": [
    "## <a STYLE=\"padding-left:1em ; color:blue;text-align: justify;\" id=\"2.2\">2.2 Modèle InceptionResNetV2 : Dataset : 'birds'</a> "
   ]
  },
  {
   "cell_type": "code",
   "execution_count": 18,
   "metadata": {
    "colab": {
     "base_uri": "https://localhost:8080/"
    },
    "executionInfo": {
     "elapsed": 29903,
     "status": "ok",
     "timestamp": 1650720172954,
     "user": {
      "displayName": "Benoit Da Costa",
      "userId": "10822162243447519168"
     },
     "user_tz": -120
    },
    "id": "0yvxttab1WyX",
    "outputId": "0659bc71-6364-48ff-caba-58e5c9004d8b"
   },
   "outputs": [
    {
     "name": "stdout",
     "output_type": "stream",
     "text": [
      "Found 9422 files belonging to 200 classes.\n",
      "Found 2175 files belonging to 200 classes.\n",
      "148 34\n"
     ]
    }
   ],
   "source": [
    "batch_size = 64\n",
    "img_shape = (299,299,3)\n",
    "new_imput = keras.Input(shape=(299,299,3))\n",
    "\n",
    "path_dir, train_path, test_path , val_path, pred_path , models_path , results_path = choice_path('birds', aug_data = False)\n",
    "train_dataset, validation_dataset, steps_per_epoch_train, steps_per_epoch_test,class_names = process_files(train_path, test_path , img_shape)"
   ]
  },
  {
   "cell_type": "code",
   "execution_count": 19,
   "metadata": {
    "colab": {
     "base_uri": "https://localhost:8080/",
     "height": 732
    },
    "executionInfo": {
     "elapsed": 21428,
     "status": "ok",
     "timestamp": 1650720194370,
     "user": {
      "displayName": "Benoit Da Costa",
      "userId": "10822162243447519168"
     },
     "user_tz": -120
    },
    "id": "aKGIkO7o0UmJ",
    "outputId": "c27bf239-d232-4195-f10d-772e0023996a"
   },
   "outputs": [
    {
     "name": "stdout",
     "output_type": "stream",
     "text": [
      "Model: \"model_3\"\n",
      "_________________________________________________________________\n",
      " Layer (type)                Output Shape              Param #   \n",
      "=================================================================\n",
      " input_7 (InputLayer)        [(None, 299, 299, 3)]     0         \n",
      "                                                                 \n",
      " tf.math.truediv_2 (TFOpLamb  (None, 299, 299, 3)      0         \n",
      " da)                                                             \n",
      "                                                                 \n",
      " tf.math.subtract_2 (TFOpLam  (None, 299, 299, 3)      0         \n",
      " bda)                                                            \n",
      "                                                                 \n",
      " inception_resnet_v2 (Functi  (None, 8, 8, 1536)       54336736  \n",
      " onal)                                                           \n",
      "                                                                 \n",
      " sequential_6 (Sequential)   (None, 1536)              0         \n",
      "                                                                 \n",
      " dense_3 (Dense)             (None, 200)               307400    \n",
      "                                                                 \n",
      "=================================================================\n",
      "Total params: 54,644,136\n",
      "Trainable params: 307,400\n",
      "Non-trainable params: 54,336,736\n",
      "_________________________________________________________________\n"
     ]
    },
    {
     "data": {
      "image/png": "[encoded data removed]",
      "text/plain": [
       "<Figure size 576x288 with 2 Axes>"
      ]
     },
     "metadata": {
      "needs_background": "light"
     },
     "output_type": "display_data"
    },
    {
     "name": "stdout",
     "output_type": "stream",
     "text": [
      "CPU times: user 12.5 s, sys: 623 ms, total: 13.1 s\n",
      "Wall time: 21.6 s\n"
     ]
    }
   ],
   "source": [
    "%%time\n",
    "model_base_InceptionResNetV2 = InceptionResNetV2(weights=\"imagenet\", include_top=False,input_tensor=new_imput,input_shape=img_shape )\n",
    "model_base_InceptionResNetV2.trainable = False\n",
    "# model_base_InceptionResNetV2.summary()\n",
    "\n",
    "seq_InceptionResNetV2 = tf.keras.Sequential([GlobalAveragePooling2D()])\n",
    "\n",
    "model_InceptionResNetV2 = model_build(model_base_InceptionResNetV2 ,seq_InceptionResNetV2,class_names,img_shape, preprocess_input_InceptionResNetV2 ,  aug_data = False  )\n",
    "\n",
    "transfert_InceptionResNetV2, score_transfert_InceptionResNetV2 = fit_model(model_InceptionResNetV2, 'transfert_InceptionResNetV2',train_dataset , validation_dataset)"
   ]
  },
  {
   "cell_type": "markdown",
   "metadata": {},
   "source": [
    "<p STYLE=\"padding-left:1em ; color:blue;text-align: justify;\"><b> Réglage fin"
   ]
  },
  {
   "cell_type": "code",
   "execution_count": 20,
   "metadata": {
    "colab": {
     "base_uri": "https://localhost:8080/",
     "height": 732
    },
    "executionInfo": {
     "elapsed": 22652,
     "status": "ok",
     "timestamp": 1650720217360,
     "user": {
      "displayName": "Benoit Da Costa",
      "userId": "10822162243447519168"
     },
     "user_tz": -120
    },
    "id": "BFHPmUKv0UwZ",
    "outputId": "8d655d4a-cc6c-42e4-f6c3-bd7df210642a",
    "scrolled": false
   },
   "outputs": [
    {
     "name": "stdout",
     "output_type": "stream",
     "text": [
      "Model: \"model_3\"\n",
      "_________________________________________________________________\n",
      " Layer (type)                Output Shape              Param #   \n",
      "=================================================================\n",
      " input_7 (InputLayer)        [(None, 299, 299, 3)]     0         \n",
      "                                                                 \n",
      " tf.math.truediv_2 (TFOpLamb  (None, 299, 299, 3)      0         \n",
      " da)                                                             \n",
      "                                                                 \n",
      " tf.math.subtract_2 (TFOpLam  (None, 299, 299, 3)      0         \n",
      " bda)                                                            \n",
      "                                                                 \n",
      " inception_resnet_v2 (Functi  (None, 8, 8, 1536)       54336736  \n",
      " onal)                                                           \n",
      "                                                                 \n",
      " sequential_6 (Sequential)   (None, 1536)              0         \n",
      "                                                                 \n",
      " dense_3 (Dense)             (None, 200)               307400    \n",
      "                                                                 \n",
      "=================================================================\n",
      "Total params: 54,644,136\n",
      "Trainable params: 54,583,592\n",
      "Non-trainable params: 60,544\n",
      "_________________________________________________________________\n"
     ]
    },
    {
     "data": {
      "image/png": "[encoded data removed]",
      "text/plain": [
       "<Figure size 576x288 with 2 Axes>"
      ]
     },
     "metadata": {
      "needs_background": "light"
     },
     "output_type": "display_data"
    },
    {
     "name": "stdout",
     "output_type": "stream",
     "text": [
      "CPU times: user 8.9 s, sys: 1.05 s, total: 9.95 s\n",
      "Wall time: 23.2 s\n"
     ]
    }
   ],
   "source": [
    "%%time\n",
    "model_base_InceptionResNetV2.trainable = True\n",
    "transfert_InceptionResNetV2.compile(optimizer=keras.optimizers.Adam(1e-5),# Low learning rate\n",
    "                                    loss='categorical_crossentropy',metrics=['accuracy'])\n",
    "\n",
    "transfert_InceptionResNetV2_ajust, score_transfert_InceptionResNetV2_ajust = fit_model(transfert_InceptionResNetV2,'transfert_InceptionResNetV2_ajust',train_dataset , validation_dataset)  "
   ]
  },
  {
   "cell_type": "markdown",
   "metadata": {},
   "source": [
    "<p STYLE=\"padding-left:1em ; color:blue;text-align: justify;\"><b> Nous observons également un léger sur-apprentissage du modèle. Pour limiter cela, nous allons ajouter une couche de <span STYLE=\"color:gray;\"><i> Dropout</i></span> avant la couche de neurones de sorties."
   ]
  },
  {
   "cell_type": "code",
   "execution_count": 21,
   "metadata": {
    "colab": {
     "base_uri": "https://localhost:8080/"
    },
    "executionInfo": {
     "elapsed": 18,
     "status": "ok",
     "timestamp": 1650720217360,
     "user": {
      "displayName": "Benoit Da Costa",
      "userId": "10822162243447519168"
     },
     "user_tz": -120
    },
    "id": "NFutRbuW1JpO",
    "outputId": "96965158-9585-46c3-e67a-dc7c26baf463"
   },
   "outputs": [
    {
     "data": {
      "text/plain": [
       "(loss            0.401251\n",
       " accuracy        0.922203\n",
       " val_loss        1.315363\n",
       " val_accuracy    0.659770\n",
       " Name: 31, dtype: float64, loss            0.002942\n",
       " accuracy        0.999894\n",
       " val_loss        2.099123\n",
       " val_accuracy    0.697471\n",
       " Name: 5, dtype: float64)"
      ]
     },
     "execution_count": 21,
     "metadata": {},
     "output_type": "execute_result"
    }
   ],
   "source": [
    "score_transfert_InceptionResNetV2.iloc[-1] , score_transfert_InceptionResNetV2_ajust.iloc[-1]"
   ]
  },
  {
   "cell_type": "code",
   "execution_count": 22,
   "metadata": {
    "colab": {
     "base_uri": "https://localhost:8080/",
     "height": 732
    },
    "executionInfo": {
     "elapsed": 24510,
     "status": "ok",
     "timestamp": 1650720241855,
     "user": {
      "displayName": "Benoit Da Costa",
      "userId": "10822162243447519168"
     },
     "user_tz": -120
    },
    "id": "JO5Hbcw-0U0q",
    "outputId": "c07307d8-7e3f-4045-bec6-3cbd02527934"
   },
   "outputs": [
    {
     "name": "stdout",
     "output_type": "stream",
     "text": [
      "Model: \"model_4\"\n",
      "_________________________________________________________________\n",
      " Layer (type)                Output Shape              Param #   \n",
      "=================================================================\n",
      " input_8 (InputLayer)        [(None, 299, 299, 3)]     0         \n",
      "                                                                 \n",
      " tf.math.truediv_3 (TFOpLamb  (None, 299, 299, 3)      0         \n",
      " da)                                                             \n",
      "                                                                 \n",
      " tf.math.subtract_3 (TFOpLam  (None, 299, 299, 3)      0         \n",
      " bda)                                                            \n",
      "                                                                 \n",
      " inception_resnet_v2 (Functi  (None, 8, 8, 1536)       54336736  \n",
      " onal)                                                           \n",
      "                                                                 \n",
      " sequential_8 (Sequential)   (None, 1536)              0         \n",
      "                                                                 \n",
      " dense_4 (Dense)             (None, 200)               307400    \n",
      "                                                                 \n",
      "=================================================================\n",
      "Total params: 54,644,136\n",
      "Trainable params: 307,400\n",
      "Non-trainable params: 54,336,736\n",
      "_________________________________________________________________\n"
     ]
    },
    {
     "data": {
      "image/png": "[encoded data removed]",
      "text/plain": [
       "<Figure size 576x288 with 2 Axes>"
      ]
     },
     "metadata": {
      "needs_background": "light"
     },
     "output_type": "display_data"
    },
    {
     "name": "stdout",
     "output_type": "stream",
     "text": [
      "CPU times: user 13 s, sys: 590 ms, total: 13.6 s\n",
      "Wall time: 24 s\n"
     ]
    }
   ],
   "source": [
    "%%time\n",
    "model_base_InceptionResNetV2_02 = InceptionResNetV2(weights=\"imagenet\", include_top=False,input_tensor=new_imput,input_shape=img_shape )\n",
    "model_base_InceptionResNetV2_02.trainable = False\n",
    "# model_base_InceptionResNetV2_02.summary()\n",
    "\n",
    "seq_InceptionResNetV2_02 = tf.keras.Sequential([GlobalAveragePooling2D(),\n",
    "                                                layers.Dropout(0.3),\n",
    "                                                ])\n",
    "\n",
    "model_InceptionResNetV2_02 = model_build(model_base_InceptionResNetV2_02 ,seq_InceptionResNetV2_02,class_names , img_shape, preprocess_input_InceptionResNetV2, aug_data = False    )\n",
    "\n",
    "transfert_InceptionResNetV2_02, score_transfert_InceptionResNetV2_02 = fit_model(model_InceptionResNetV2_02, 'transfert_InceptionResNetV2_02',train_dataset , validation_dataset,)"
   ]
  },
  {
   "cell_type": "markdown",
   "metadata": {},
   "source": [
    "<p STYLE=\"padding-left:1em ; color:blue;text-align: justify;\"><b> Réglage fin"
   ]
  },
  {
   "cell_type": "code",
   "execution_count": 23,
   "metadata": {
    "colab": {
     "base_uri": "https://localhost:8080/",
     "height": 732
    },
    "executionInfo": {
     "elapsed": 12402,
     "status": "ok",
     "timestamp": 1650720254240,
     "user": {
      "displayName": "Benoit Da Costa",
      "userId": "10822162243447519168"
     },
     "user_tz": -120
    },
    "id": "PHQnGidy0c0p",
    "outputId": "f25d3cea-0881-4318-cbab-48d1d253a9ad",
    "scrolled": false
   },
   "outputs": [
    {
     "name": "stdout",
     "output_type": "stream",
     "text": [
      "CPU times: user 2 µs, sys: 0 ns, total: 2 µs\n",
      "Wall time: 5.96 µs\n",
      "Model: \"model_4\"\n",
      "_________________________________________________________________\n",
      " Layer (type)                Output Shape              Param #   \n",
      "=================================================================\n",
      " input_8 (InputLayer)        [(None, 299, 299, 3)]     0         \n",
      "                                                                 \n",
      " tf.math.truediv_3 (TFOpLamb  (None, 299, 299, 3)      0         \n",
      " da)                                                             \n",
      "                                                                 \n",
      " tf.math.subtract_3 (TFOpLam  (None, 299, 299, 3)      0         \n",
      " bda)                                                            \n",
      "                                                                 \n",
      " inception_resnet_v2 (Functi  (None, 8, 8, 1536)       54336736  \n",
      " onal)                                                           \n",
      "                                                                 \n",
      " sequential_8 (Sequential)   (None, 1536)              0         \n",
      "                                                                 \n",
      " dense_4 (Dense)             (None, 200)               307400    \n",
      "                                                                 \n",
      "=================================================================\n",
      "Total params: 54,644,136\n",
      "Trainable params: 307,400\n",
      "Non-trainable params: 54,336,736\n",
      "_________________________________________________________________\n"
     ]
    },
    {
     "data": {
      "image/png": "[encoded data removed]",
      "text/plain": [
       "<Figure size 576x288 with 2 Axes>"
      ]
     },
     "metadata": {
      "needs_background": "light"
     },
     "output_type": "display_data"
    }
   ],
   "source": [
    "%time\n",
    "model_base_InceptionResNetV2_02.trainable = True\n",
    "transfert_InceptionResNetV2_02.compile(optimizer=keras.optimizers.Adam(1e-5),# Low learning rate\n",
    "                                    loss='categorical_crossentropy',metrics=['accuracy'])\n",
    "\n",
    "transfert_InceptionResNetV2_ajust_02,score_transfert_InceptionResNetV2_ajust_02 = fit_model(transfert_InceptionResNetV2_02, 'transfert_InceptionResNetV2_ajust_02_birds',train_dataset , validation_dataset)"
   ]
  },
  {
   "cell_type": "markdown",
   "metadata": {},
   "source": [
    "<p STYLE=\"padding-left:1em ; color:blue;text-align: justify;\"><b> L'ajout d'une couche de <span STYLE=\"color:gray;\"><i> Dropout</i></span> avant la couche de neurones de sortie ne permet pas de limiter le sur-apprentissage."
   ]
  },
  {
   "cell_type": "code",
   "execution_count": 24,
   "metadata": {
    "colab": {
     "base_uri": "https://localhost:8080/"
    },
    "executionInfo": {
     "elapsed": 19,
     "status": "ok",
     "timestamp": 1650720254241,
     "user": {
      "displayName": "Benoit Da Costa",
      "userId": "10822162243447519168"
     },
     "user_tz": -120
    },
    "id": "BlxFr2OX05Ou",
    "outputId": "7d253024-63c7-4416-caf8-f46e9fb7d0f7"
   },
   "outputs": [
    {
     "data": {
      "text/plain": [
       "(loss            0.511843\n",
       " accuracy        0.863405\n",
       " val_loss        1.299957\n",
       " val_accuracy    0.657471\n",
       " Name: 43, dtype: float64, loss            0.436823\n",
       " accuracy        0.897368\n",
       " val_loss        1.234256\n",
       " val_accuracy    0.680920\n",
       " Name: 24, dtype: float64)"
      ]
     },
     "execution_count": 24,
     "metadata": {},
     "output_type": "execute_result"
    }
   ],
   "source": [
    "score_transfert_InceptionResNetV2_02.iloc[-1] , score_transfert_InceptionResNetV2_ajust_02.iloc[-1]"
   ]
  },
  {
   "cell_type": "markdown",
   "metadata": {
    "id": "qVQtt5Kx4FWl"
   },
   "source": [
    "# <a STYLE=\"color:black\" id=\"3\">Etape 3 : Vision Transformers</a> "
   ]
  },
  {
   "cell_type": "code",
   "execution_count": 25,
   "metadata": {
    "colab": {
     "base_uri": "https://localhost:8080/",
     "height": 1000
    },
    "executionInfo": {
     "elapsed": 74590,
     "status": "ok",
     "timestamp": 1650720329273,
     "user": {
      "displayName": "Benoit Da Costa",
      "userId": "10822162243447519168"
     },
     "user_tz": -120
    },
    "id": "tHPbpkXD-2f6",
    "outputId": "b1f688b1-d2ee-49bd-a9f6-0703d988d5cd"
   },
   "outputs": [
    {
     "name": "stdout",
     "output_type": "stream",
     "text": [
      "\u001b[K     |████████████████████████████████| 77 kB 3.0 MB/s \n",
      "\u001b[K     |████████████████████████████████| 184 kB 23.6 MB/s \n",
      "\u001b[K     |████████████████████████████████| 77 kB 7.9 MB/s \n",
      "\u001b[K     |████████████████████████████████| 4.9 MB 84.6 MB/s \n",
      "\u001b[K     |████████████████████████████████| 287 kB 67.0 MB/s \n",
      "\u001b[K     |████████████████████████████████| 4.2 MB 82.4 MB/s \n",
      "\u001b[K     |████████████████████████████████| 140 kB 3.1 MB/s \n",
      "\u001b[K     |████████████████████████████████| 462 kB 98.2 MB/s \n",
      "\u001b[K     |████████████████████████████████| 72 kB 709 kB/s \n",
      "\u001b[?25h  Building wheel for vit-jax (setup.py) ... \u001b[?25l\u001b[?25hdone\n",
      "  Building wheel for flaxformer (setup.py) ... \u001b[?25l\u001b[?25hdone\n",
      "  Building wheel for ml-collections (setup.py) ... \u001b[?25l\u001b[?25hdone\n",
      "Cloning into 'vision_transformer'...\n",
      "remote: Enumerating objects: 47, done.\u001b[K\n",
      "remote: Counting objects: 100% (47/47), done.\u001b[K\n",
      "remote: Compressing objects: 100% (41/41), done.\u001b[K\n",
      "remote: Total 47 (delta 6), reused 13 (delta 3), pack-reused 0\u001b[K\n",
      "Unpacking objects: 100% (47/47), done.\n",
      "Already up to date.\n",
      "\u001b[K     |████████████████████████████████| 155.4 MB 14 kB/s \n",
      "\u001b[K     |████████████████████████████████| 88 kB 3.3 MB/s \n",
      "\u001b[K     |████████████████████████████████| 190.5 MB 38 kB/s \n",
      "\u001b[?25hgs://vit_models/imagenet21k+imagenet2012/:\n",
      "377.57 MiB  2020-11-30T16:17:02Z  gs://vit_models/imagenet21k+imagenet2012/R50+ViT-B_16.npz\n",
      "330.29 MiB  2020-10-29T17:05:52Z  gs://vit_models/imagenet21k+imagenet2012/ViT-B_16-224.npz\n",
      " 331.4 MiB  2020-10-20T11:48:22Z  gs://vit_models/imagenet21k+imagenet2012/ViT-B_16.npz\n",
      "336.89 MiB  2020-10-20T11:47:36Z  gs://vit_models/imagenet21k+imagenet2012/ViT-B_32.npz\n",
      "334.78 MiB  2021-03-12T09:04:16Z  gs://vit_models/imagenet21k+imagenet2012/ViT-B_8.npz\n",
      "  1.13 GiB  2020-10-29T17:08:31Z  gs://vit_models/imagenet21k+imagenet2012/ViT-L_16-224.npz\n",
      "  1.14 GiB  2020-10-20T11:53:44Z  gs://vit_models/imagenet21k+imagenet2012/ViT-L_16.npz\n",
      "  1.14 GiB  2020-10-20T11:50:56Z  gs://vit_models/imagenet21k+imagenet2012/ViT-L_32.npz\n",
      "\n",
      "gs://vit_models/imagenet21k/:\n",
      "450.23 MiB  2021-01-20T14:12:43Z  gs://vit_models/imagenet21k/R26+ViT-B_32.npz\n",
      "439.85 MiB  2020-11-30T10:10:15Z  gs://vit_models/imagenet21k/R50+ViT-B_16.npz\n",
      "  1.31 GiB  2021-01-20T14:11:54Z  gs://vit_models/imagenet21k/R50+ViT-L_32.npz\n",
      "393.69 MiB  2020-10-22T21:38:39Z  gs://vit_models/imagenet21k/ViT-B_16.npz\n",
      "400.01 MiB  2020-11-02T08:30:56Z  gs://vit_models/imagenet21k/ViT-B_32.npz\n",
      "393.72 MiB  2021-03-10T13:28:28Z  gs://vit_models/imagenet21k/ViT-B_8.npz\n",
      "  2.46 GiB  2020-11-03T10:46:11Z  gs://vit_models/imagenet21k/ViT-H_14.npz\n",
      "  1.22 GiB  2020-11-09T14:39:51Z  gs://vit_models/imagenet21k/ViT-L_16.npz\n",
      "  1.23 GiB  2020-11-02T08:35:10Z  gs://vit_models/imagenet21k/ViT-L_32.npz\n",
      "TOTAL: 17 objects, 14306096550 bytes (13.32 GiB)\n",
      " 330.3 MiB  2021-07-13T19:39:09Z  gs://vit_models/sam/ViT-B_16.npz\n",
      "336.61 MiB  2021-07-13T19:39:10Z  gs://vit_models/sam/ViT-B_32.npz\n",
      "  1.13 GiB  2021-07-13T19:39:38Z  gs://vit_models/sam/ViT-L_16.npz\n",
      "  1.14 GiB  2021-07-13T19:39:38Z  gs://vit_models/sam/ViT-L_32.npz\n",
      "252.57 MiB  2022-02-18T06:43:52Z  gs://vit_models/sam/ViT-S_16.npz\n",
      "TOTAL: 5 objects, 3407859850 bytes (3.17 GiB)\n",
      "       6 B  2021-06-28T13:07:12Z  gs://mixer_models/sam_$folder$\n",
      "\n",
      "gs://mixer_models/imagenet1k/:\n",
      "228.47 MiB  2021-05-05T14:09:01Z  gs://mixer_models/imagenet1k/Mixer-B_16.npz\n",
      "794.29 MiB  2021-05-05T14:09:02Z  gs://mixer_models/imagenet1k/Mixer-L_16.npz\n",
      "\n",
      "gs://mixer_models/imagenet21k/:\n",
      "289.61 MiB  2021-05-05T14:09:11Z  gs://mixer_models/imagenet21k/Mixer-B_16.npz\n",
      "875.78 MiB  2021-05-05T14:09:12Z  gs://mixer_models/imagenet21k/Mixer-L_16.npz\n",
      "\n",
      "gs://mixer_models/sam/:\n",
      "228.47 MiB  2021-06-28T13:08:09Z  gs://mixer_models/sam/Mixer-B_16.npz\n",
      "230.04 MiB  2021-06-28T13:08:08Z  gs://mixer_models/sam/Mixer-B_32.npz\n",
      "TOTAL: 7 objects, 2775222110 bytes (2.58 GiB)\n"
     ]
    },
    {
     "data": {
      "application/javascript": [
       "\n",
       "      ((filepath) => {{\n",
       "        if (!google.colab.kernel.accessAllowed) {{\n",
       "          return;\n",
       "        }}\n",
       "        google.colab.files.view(filepath);\n",
       "      }})(\"/content/vision_transformer/vit_jax/configs/common.py\")"
      ],
      "text/plain": [
       "<IPython.core.display.Javascript object>"
      ]
     },
     "metadata": {},
     "output_type": "display_data"
    },
    {
     "data": {
      "application/javascript": [
       "\n",
       "      ((filepath) => {{\n",
       "        if (!google.colab.kernel.accessAllowed) {{\n",
       "          return;\n",
       "        }}\n",
       "        google.colab.files.view(filepath);\n",
       "      }})(\"/content/vision_transformer/vit_jax/configs/models.py\")"
      ],
      "text/plain": [
       "<IPython.core.display.Javascript object>"
      ]
     },
     "metadata": {},
     "output_type": "display_data"
    },
    {
     "data": {
      "application/javascript": [
       "\n",
       "      ((filepath) => {{\n",
       "        if (!google.colab.kernel.accessAllowed) {{\n",
       "          return;\n",
       "        }}\n",
       "        google.colab.files.view(filepath);\n",
       "      }})(\"/content/vision_transformer/vit_jax/checkpoint.py\")"
      ],
      "text/plain": [
       "<IPython.core.display.Javascript object>"
      ]
     },
     "metadata": {},
     "output_type": "display_data"
    },
    {
     "data": {
      "application/javascript": [
       "\n",
       "      ((filepath) => {{\n",
       "        if (!google.colab.kernel.accessAllowed) {{\n",
       "          return;\n",
       "        }}\n",
       "        google.colab.files.view(filepath);\n",
       "      }})(\"/content/vision_transformer/vit_jax/input_pipeline.py\")"
      ],
      "text/plain": [
       "<IPython.core.display.Javascript object>"
      ]
     },
     "metadata": {},
     "output_type": "display_data"
    },
    {
     "data": {
      "application/javascript": [
       "\n",
       "      ((filepath) => {{\n",
       "        if (!google.colab.kernel.accessAllowed) {{\n",
       "          return;\n",
       "        }}\n",
       "        google.colab.files.view(filepath);\n",
       "      }})(\"/content/vision_transformer/vit_jax/models.py\")"
      ],
      "text/plain": [
       "<IPython.core.display.Javascript object>"
      ]
     },
     "metadata": {},
     "output_type": "display_data"
    },
    {
     "data": {
      "application/javascript": [
       "\n",
       "      ((filepath) => {{\n",
       "        if (!google.colab.kernel.accessAllowed) {{\n",
       "          return;\n",
       "        }}\n",
       "        google.colab.files.view(filepath);\n",
       "      }})(\"/content/vision_transformer/vit_jax/momentum_clip.py\")"
      ],
      "text/plain": [
       "<IPython.core.display.Javascript object>"
      ]
     },
     "metadata": {},
     "output_type": "display_data"
    },
    {
     "data": {
      "application/javascript": [
       "\n",
       "      ((filepath) => {{\n",
       "        if (!google.colab.kernel.accessAllowed) {{\n",
       "          return;\n",
       "        }}\n",
       "        google.colab.files.view(filepath);\n",
       "      }})(\"/content/vision_transformer/vit_jax/train.py\")"
      ],
      "text/plain": [
       "<IPython.core.display.Javascript object>"
      ]
     },
     "metadata": {},
     "output_type": "display_data"
    }
   ],
   "source": [
    "# Fetch vision_transformer repository.\n",
    "!pip install -q git+https://github.com/google-research/vision_transformer\n",
    "![ -d vision_transformer ] || git clone --depth=1 https://github.com/google-research/vision_transformer\n",
    "!cd vision_transformer && git pull\n",
    "# Install dependencies.\n",
    "!pip install -qr vision_transformer/vit_jax/requirements.txt\n",
    "\n",
    "# Shows all available pre-trained models.\n",
    "!gsutil ls -lh gs://vit_models/imagenet*\n",
    "!gsutil ls -lh gs://vit_models/sam\n",
    "!gsutil ls -lh gs://mixer_models/*\n",
    "\n",
    "from google.colab import files\n",
    "files.view('vision_transformer/vit_jax/configs/common.py')\n",
    "files.view('vision_transformer/vit_jax/configs/models.py')\n",
    "files.view('vision_transformer/vit_jax/checkpoint.py')\n",
    "files.view('vision_transformer/vit_jax/input_pipeline.py')\n",
    "files.view('vision_transformer/vit_jax/models.py')\n",
    "files.view('vision_transformer/vit_jax/momentum_clip.py')\n",
    "files.view('vision_transformer/vit_jax/train.py')\n",
    "\n",
    "from absl import logging\n",
    "import flax\n",
    "import jax\n",
    "from matplotlib import pyplot as plt\n",
    "import numpy as np\n",
    "import tqdm\n",
    "\n",
    "import sys\n",
    "if './vision_transformer' not in sys.path:\n",
    "  sys.path.append('./vision_transformer')\n",
    "\n",
    "%load_ext autoreload\n",
    "%autoreload 2\n",
    "\n",
    "from vit_jax import checkpoint,input_pipeline,utils, models, momentum_clip, train\n",
    "from vit_jax.configs import augreg as augreg_config\n",
    "from vit_jax.configs import models as models_config\n",
    "from vit_jax.configs import common as common_config"
   ]
  },
  {
   "cell_type": "code",
   "execution_count": 26,
   "metadata": {
    "colab": {
     "base_uri": "https://localhost:8080/"
    },
    "executionInfo": {
     "elapsed": 951,
     "status": "ok",
     "timestamp": 1650720330220,
     "user": {
      "displayName": "Benoit Da Costa",
      "userId": "10822162243447519168"
     },
     "user_tz": -120
    },
    "id": "tTqGUc8QNzga",
    "outputId": "a5b7d9f9-2030-4407-f7dc-6cf153bcf707"
   },
   "outputs": [
    {
     "name": "stderr",
     "output_type": "stream",
     "text": [
      "INFO:absl:Unable to initialize backend 'tpu_driver': NOT_FOUND: Unable to find driver in registry given worker: \n",
      "INFO:absl:Unable to initialize backend 'tpu': INVALID_ARGUMENT: TpuPlatform is not available.\n"
     ]
    },
    {
     "name": "stdout",
     "output_type": "stream",
     "text": [
      "No TPU detected. Can be changed under \"Runtime/Change runtime type\".\n"
     ]
    },
    {
     "data": {
      "text/plain": [
       "[GpuDevice(id=0, process_index=0)]"
      ]
     },
     "execution_count": 26,
     "metadata": {},
     "output_type": "execute_result"
    }
   ],
   "source": [
    "# Google Colab \"TPU\" runtimes are configured in \"2VM mode\", meaning that JAX\n",
    "# cannot see the TPUs because they're not directly attached. Instead we need to\n",
    "# setup JAX to communicate with a second machine that has the TPUs attached.\n",
    "if 'google.colab' in str(get_ipython()) and 'COLAB_TPU_ADDR' in os.environ:\n",
    "  import jax\n",
    "  import jax.tools.colab_tpu\n",
    "  jax.tools.colab_tpu.setup_tpu()\n",
    "  print('Connected to TPU.')\n",
    "else:\n",
    "  print('No TPU detected. Can be changed under \"Runtime/Change runtime type\".')\n",
    "\n",
    "logging.set_verbosity(logging.INFO)\n",
    "# Shows the number of available devices.\n",
    "# In a CPU/GPU runtime this will be a single device.\n",
    "# In a TPU runtime this will be 8 cores.\n",
    "jax.local_devices()"
   ]
  },
  {
   "cell_type": "code",
   "execution_count": 27,
   "metadata": {
    "executionInfo": {
     "elapsed": 5,
     "status": "ok",
     "timestamp": 1650720330221,
     "user": {
      "displayName": "Benoit Da Costa",
      "userId": "10822162243447519168"
     },
     "user_tz": -120
    },
    "id": "_Hni0D6E-XmI"
   },
   "outputs": [],
   "source": [
    "AUTOTUNE = tf.data.AUTOTUNE\n",
    "\n",
    "# def prepare(ds, resize_and_rescale = False , shuffle=False, augment=False):\n",
    "    \n",
    "#     data_augmentation = tf.keras.Sequential([layers.RandomFlip(\"horizontal\"),\n",
    "#                                         layers.RandomWidth(0.2),\n",
    "#                                         layers.RandomHeight(0.2),\n",
    "#                                         layers.RandomRotation(0.2),\n",
    "#                                         layers.RandomZoom(0.2),\n",
    "#                                         layers.RandomTranslation(height_factor=0.2, width_factor=0.2),\n",
    "#                                         layers.RandomContrast(factor=0.2) ] )\n",
    "\n",
    "#     resize_and_rescale = tf.keras.Sequential([layers.Resizing(img_shape[0], img_shape[1]),\n",
    "#                                            layers.Rescaling(1./255) ])\n",
    "#   # Resize and rescale all datasets.\n",
    "#     if resize_and_rescale:\n",
    "#         # ds = ds.map(lambda x,y: (resize_and_rescale(x, training=True),y), \n",
    "#         #         num_parallel_calls=AUTOTUNE)\n",
    "#         ds = ds.map(lambda x: resize_and_rescale(x , training=True),num_parallel_calls=AUTOTUNE)\n",
    "#     if shuffle:\n",
    "#         ds = ds.shuffle(1000)\n",
    "\n",
    "# # Batch all datasets.\n",
    "#     ds = ds.batch(batch_size)\n",
    "\n",
    "# # Use data augmentation only on the training set.\n",
    "#     if augment:\n",
    "#         ds = ds.map(lambda x: data_augmentation(x, training=True), \n",
    "#                 num_parallel_calls=AUTOTUNE)\n",
    "\n",
    "# Use buffered prefetching on all datasets.\n",
    "    # return ds.prefetch(buffer_size=AUTOTUNE)\n",
    "\n",
    "def config_vit(path_dir, train_path, test_path, aug_data = False):\n",
    "    dataset = 'imagenet2012'\n",
    "    config = common_config.with_dataset(common_config.get_config(), dataset)\n",
    "    print(config)\n",
    "    config.batch = batch_size\n",
    "    config.batch_eval = batch_size\n",
    "    config.pp.test = 'test'\n",
    "    config.pp.train = 'train'\n",
    "    config.dataset = path_dir\n",
    "    print(config)\n",
    "\n",
    "    ds_train = input_pipeline.get_data_from_directory(config=config, directory =train_path , mode='train')\n",
    "    ds_test = input_pipeline.get_data_from_directory(config=config, directory =test_path , mode='test')\n",
    "\n",
    "    # if aug_data == True : \n",
    "    #     ds_train = prepare(ds_train ,  resize_and_rescale = True , shuffle=True, augment=True)\n",
    "    #     ds_test = prepare(ds_test ,  resize_and_rescale = False , shuffle=False, augment=False)\n",
    "\n",
    "\n",
    "    # Fetch a batch of test images for illustration purposes.\n",
    "    batch = next(iter(ds_test.as_numpy_iterator()))\n",
    "    # Note the shape : [num_local_devices, local_batch_size, h, w, c]\n",
    "    batch['image'].shape\n",
    "\n",
    "    return ds_train, ds_test , batch , config\n",
    "\n",
    "def config_modif(config, var = '' , new=''):\n",
    "    del config[var]  \n",
    "    config[var] = new\n",
    "    return config\n",
    "\n",
    "def config_model(model_name,batch ):\n",
    "\n",
    "    if model_name.startswith('ViT'):\n",
    "        ![ -e \"$model_name\".npz ] || gsutil cp gs://vit_models/imagenet21k/\"$model_name\".npz .\n",
    "    if model_name.startswith('Mixer'):\n",
    "        ![ -e \"$model_name\".npz ] || gsutil cp gs://mixer_models/imagenet21k/\"$model_name\".npz .\n",
    "\n",
    "    assert os.path.exists(f'{model_name}.npz')\n",
    "\n",
    "    model_config = models_config.MODEL_CONFIGS[model_name]\n",
    "    print(model_config)\n",
    "\n",
    "    # Load model definition & initialize random parameters.\n",
    "    # This also compiles the model to XLA (takes some minutes the first time).\n",
    "    if model_name.startswith('Mixer'):\n",
    "        model = models.MlpMixer(num_classes=num_classes, **model_config)\n",
    "    else:\n",
    "        model = models.VisionTransformer(num_classes=num_classes, **model_config)\n",
    "\n",
    "    variables = jax.jit(lambda: model.init(jax.random.PRNGKey(0),\n",
    "    # Discard the \"num_local_devices\" dimension of the batch for initialization.\n",
    "    batch['image'][0, :1],train=False,), backend='cpu')()\n",
    "\n",
    "    # Load and convert pretrained checkpoint.\n",
    "    # This involves loading the actual pre-trained model results, but then also also\n",
    "    # modifying the parameters a bit, e.g. changing the final layers, and resizing\n",
    "    # the positional embeddings.\n",
    "    # For details, refer to the code and to the methods of the paper.\n",
    "    params = checkpoint.load_pretrained(pretrained_path=f'{model_name}.npz',\n",
    "                                    init_params=variables['params'],\n",
    "                                    model_config=model_config,)\n",
    "    \n",
    "    # So far, all our data is in the host memory. Let's now replicate the arrays\n",
    "    # into the devices.\n",
    "    # This will make every array in the pytree params become a ShardedDeviceArray\n",
    "    # that has the same data replicated across all local devices.\n",
    "    # For TPU it replicates the params in every core.\n",
    "    # For a single GPU this simply moves the data onto the device.\n",
    "    # For CPU it simply creates a copy.\n",
    "    params_repl = flax.jax_utils.replicate(params)\n",
    "    print('params.cls:', type(params['head']['bias']).__name__,\n",
    "        params['head']['bias'].shape)\n",
    "    print('params_repl.cls:', type(params_repl['head']['bias']).__name__,\n",
    "        params_repl['head']['bias'].shape)\n",
    "    \n",
    "    # Then map the call to our model's forward pass onto all available devices.\n",
    "    vit_apply_repl = jax.pmap(lambda params, inputs: model.apply(\n",
    "                dict(params=params), inputs, train=False))\n",
    "    \n",
    "    return model, model_config, variables, params, params_repl, vit_apply_repl\n",
    "\n",
    "def get_accuracy(params_repl):\n",
    "    \"\"\"Returns accuracy evaluated on the test set.\"\"\"\n",
    "    good = total = 0\n",
    "    steps = input_pipeline.get_dataset_info(path_dir, 'test')['num_examples'] // batch_size\n",
    "    # steps = steps_per_epoch_test\n",
    "    for _, batch in zip(tqdm.trange(steps), ds_test.as_numpy_iterator()):\n",
    "        predicted = vit_apply_repl(params_repl, batch['image'])\n",
    "        is_same = predicted.argmax(axis=-1) == batch['label'].argmax(axis=-1)\n",
    "        good += is_same.sum()\n",
    "        total += len(is_same.flatten())\n",
    "    return good / total\n",
    "\n",
    "def metrics_plot(**args):\n",
    "    l = 1 \n",
    "    c = 2 if len(args)%2==0 else 1\n",
    "    plt.figure(figsize=(4*c, 4))\n",
    "    i = 1\n",
    "    for data in args :\n",
    "        df = args[data]\n",
    "        if data in 'accuracy' :\n",
    "            plt.subplot(l, c, 1)\n",
    "            label = 'Training Accuracy' if 'train' in data else  'Validation Accuracy'\n",
    "            plt.plot(df, c = 'orange', label = label)\n",
    "            plt.legend(loc='best')\n",
    "            plt.title('Validation Accuray')\n",
    "            \n",
    "        else: \n",
    "            plt.subplot(l, c, i)\n",
    "            plt.plot(df, label=str(data))\n",
    "            plt.legend(loc='best')\n",
    "            plt.title('Training ' + str(data))\n",
    "        i+=1\n",
    "    plt.tight_layout()\n",
    "    plt.show()"
   ]
  },
  {
   "cell_type": "code",
   "execution_count": 28,
   "metadata": {
    "colab": {
     "base_uri": "https://localhost:8080/"
    },
    "executionInfo": {
     "elapsed": 85854,
     "status": "ok",
     "timestamp": 1650720416071,
     "user": {
      "displayName": "Benoit Da Costa",
      "userId": "10822162243447519168"
     },
     "user_tz": -120
    },
    "id": "wZP73sPIKFHu",
    "outputId": "95f2157a-3794-46ac-8e26-3f522915f9ca"
   },
   "outputs": [
    {
     "name": "stdout",
     "output_type": "stream",
     "text": [
      "Found 16376 files belonging to 120 classes.\n",
      "Found 4085 files belonging to 120 classes.\n",
      "64 16\n",
      "accum_steps: 8\n",
      "base_lr: 0.03\n",
      "batch: 512\n",
      "batch_eval: 512\n",
      "checkpoint_every: 1000\n",
      "dataset: imagenet2012\n",
      "decay_type: cosine\n",
      "eval_every: 100\n",
      "grad_norm_clip: 1.0\n",
      "model: null\n",
      "model_or_filename: null\n",
      "optim_dtype: bfloat16\n",
      "pp: {crop: 384, test: validation, train: 'train[:99%]'}\n",
      "prefetch: 2\n",
      "pretrained_dir: .\n",
      "progress_every: 10\n",
      "shuffle_buffer: 50000\n",
      "tfds_data_dir: null\n",
      "tfds_manual_dir: null\n",
      "total_steps: 20000\n",
      "trainer: train\n",
      "warmup_steps: 500\n",
      "\n",
      "accum_steps: 8\n",
      "base_lr: 0.03\n",
      "batch: 256\n",
      "batch_eval: 256\n",
      "checkpoint_every: 1000\n",
      "dataset: /content/drive/MyDrive/Colab Notebooks/P07//Dataset/Dataset_dogs/\n",
      "decay_type: cosine\n",
      "eval_every: 100\n",
      "grad_norm_clip: 1.0\n",
      "model: null\n",
      "model_or_filename: null\n",
      "optim_dtype: bfloat16\n",
      "pp: {crop: 384, test: test, train: train}\n",
      "prefetch: 2\n",
      "pretrained_dir: .\n",
      "progress_every: 10\n",
      "shuffle_buffer: 50000\n",
      "tfds_data_dir: null\n",
      "tfds_manual_dir: null\n",
      "total_steps: 20000\n",
      "trainer: train\n",
      "warmup_steps: 500\n",
      "\n",
      "choix entre le modèle : ViT-B_32 ; Mixer-B_16\n",
      "modèle choisi ViT-B_32\n",
      "\n",
      "Copying gs://vit_models/imagenet21k/ViT-B_32.npz...\n",
      "- [1 files][400.0 MiB/400.0 MiB]                                                \n",
      "Operation completed over 1 objects/400.0 MiB.                                    \n",
      "classifier: token\n",
      "hidden_size: 768\n",
      "model_name: ViT-B_32\n",
      "patches:\n",
      "  size: !!python/tuple [32, 32]\n",
      "representation_size: null\n",
      "transformer: {attention_dropout_rate: 0.0, dropout_rate: 0.0, mlp_dim: 3072, num_heads: 12,\n",
      "  num_layers: 12}\n",
      "\n"
     ]
    },
    {
     "name": "stderr",
     "output_type": "stream",
     "text": [
      "INFO:absl:Inspect extra keys:\n",
      "{'pre_logits/kernel', 'pre_logits/bias'}\n",
      "INFO:absl:load_pretrained: drop-head variant\n",
      "INFO:absl:load_pretrained: resized variant: (1, 50, 768) to (1, 145, 768)\n",
      "INFO:absl:load_pretrained: grid-size from 7 to 12\n"
     ]
    },
    {
     "name": "stdout",
     "output_type": "stream",
     "text": [
      "params.cls: DeviceArray (120,)\n",
      "params_repl.cls: ShardedDeviceArray (1, 120)\n"
     ]
    }
   ],
   "source": [
    "img_shape = (229,229,3)\n",
    "batch_size = 256\n",
    "path_dir, train_path, test_path , val_path, pred_path , models_path , results_path = choice_path('dogs',  aug_data = False)\n",
    "\n",
    "train_dataset, validation_dataset, steps_per_epoch_train, steps_per_epoch_test,class_names = process_files(train_path, test_path , img_shape)\n",
    "num_classes=len(class_names)\n",
    "\n",
    "ds_train, ds_test , batch , config = config_vit(path_dir, train_path, test_path , aug_data = False)\n",
    "# model_name : [\"ViT-B_32\", \"Mixer-B_16\"]\n",
    "print('choix entre le modèle : ViT-B_32 ; Mixer-B_16')\n",
    "\n",
    "model_name = \"ViT-B_32\"\n",
    "print(f'modèle choisi {model_name}\\n') \n",
    "model, model_config, variables, params, params_repl, vit_apply_repl = config_model(model_name,batch )"
   ]
  },
  {
   "cell_type": "code",
   "execution_count": 29,
   "metadata": {
    "executionInfo": {
     "elapsed": 19,
     "status": "ok",
     "timestamp": 1650720416072,
     "user": {
      "displayName": "Benoit Da Costa",
      "userId": "10822162243447519168"
     },
     "user_tz": -120
    },
    "id": "tr_0WYusIixd"
   },
   "outputs": [],
   "source": [
    "def param_vit(**kwargs) :\n",
    "\n",
    "    param = {'total_steps' : 100, 'warmup_steps' : 5,'decay_type' : 'cosine',\n",
    "            'grad_norm_clip' : 1,'accum_steps' : 8,'base_lr' : 0.03}\n",
    "    if len(kwargs)>0 : \n",
    "        for name , value in kwargs.items() : \n",
    "            if name in param : \n",
    "                param[name] = value \n",
    "\n",
    "    # Check out train.make_update_fn in the editor on the right side for details.\n",
    "    lr_fn = utils.create_learning_rate_schedule(param['total_steps'], param['base_lr'], param['decay_type'], param['warmup_steps'])\n",
    "    update_fn_repl = train.make_update_fn(apply_fn=model.apply, accum_steps=param['accum_steps'], lr_fn=lr_fn)\n",
    "\n",
    "    infer_fn_repl = jax.pmap(functools.partial(model.apply, train=False))\n",
    "\n",
    "    # We use a momentum optimizer that uses half precision for state to save\n",
    "    # memory. It als implements the gradient clipping.\n",
    "    opt = momentum_clip.Optimizer(grad_norm_clip=param['grad_norm_clip']).create(params)\n",
    "    opt_repl = flax.jax_utils.replicate(opt)\n",
    "\n",
    "    # Initialize PRNGs for dropout.\n",
    "    update_rng_repl = flax.jax_utils.replicate(jax.random.PRNGKey(0))\n",
    "\n",
    "    return lr_fn , update_fn_repl , infer_fn_repl , opt , opt_repl , update_rng_repl , param['total_steps']"
   ]
  },
  {
   "cell_type": "code",
   "execution_count": 30,
   "metadata": {
    "colab": {
     "base_uri": "https://localhost:8080/"
    },
    "executionInfo": {
     "elapsed": 1581,
     "status": "ok",
     "timestamp": 1650720417635,
     "user": {
      "displayName": "Benoit Da Costa",
      "userId": "10822162243447519168"
     },
     "user_tz": -120
    },
    "id": "hL7YWPglKYIC",
    "outputId": "19e52ba1-0ddd-4f43-cc92-ea90a0bc41e1"
   },
   "outputs": [
    {
     "name": "stderr",
     "output_type": "stream",
     "text": [
      "/usr/local/lib/python3.7/dist-packages/flax/optim/base.py:52: DeprecationWarning: Use `optax` instead of `flax.optim`. Refer to the update guide https://flax.readthedocs.io/en/latest/howtos/optax_update_guide.html for detailed instructions.\n",
      "  'for detailed instructions.', DeprecationWarning)\n"
     ]
    }
   ],
   "source": [
    "lr_fn , update_fn_repl , infer_fn_repl , opt , opt_repl , update_rng_repl , total_steps = param_vit()"
   ]
  },
  {
   "cell_type": "code",
   "execution_count": 31,
   "metadata": {
    "colab": {
     "base_uri": "https://localhost:8080/"
    },
    "executionInfo": {
     "elapsed": 10,
     "status": "ok",
     "timestamp": 1650720417636,
     "user": {
      "displayName": "Benoit Da Costa",
      "userId": "10822162243447519168"
     },
     "user_tz": -120
    },
    "id": "Ea0RVNRRInYl",
    "outputId": "49c85da9-ee3c-4e31-953f-f7241cd7a652"
   },
   "outputs": [
    {
     "name": "stdout",
     "output_type": "stream",
     "text": [
      "CPU times: user 5 µs, sys: 1 µs, total: 6 µs\n",
      "Wall time: 8.58 µs\n"
     ]
    }
   ],
   "source": [
    "%%time\n",
    "def fit_vit(name ='ViT_Finetune' , opt_repl = opt_repl , update_rng_repl = update_rng_repl , total_steps= total_steps ):\n",
    "    if os.path.isfile(results_path+'losses_'+str(name)+'_384.joblib'):\n",
    "        losses = load(results_path+'losses_'+str(name)+'_384.joblib')\n",
    "        lrs =  load(results_path+'lrs_'+str(name)+'_384.joblib')\n",
    "        accuracy_test =  load(results_path+'accuracy_test_'+str(name)+'_384.joblib')\n",
    "        metrics_plot( losses = losses, lrs = lrs  ) \n",
    "        metrics_plot( accuracy = accuracy_test ) \n",
    "    else : \n",
    "        losses = []\n",
    "        lrs = []\n",
    "        accuracy_test = []\n",
    "        # accuracy_train = []\n",
    "\n",
    "        for step, batch in zip(tqdm.trange(1, total_steps + 1),ds_train.as_numpy_iterator(),):\n",
    "            opt_repl, loss_repl, update_rng_repl = update_fn_repl(opt_repl, flax.jax_utils.replicate(step),batch, update_rng_repl)\n",
    "            losses.append(loss_repl[0])\n",
    "            lrs.append(lr_fn(step))\n",
    "            accuracies_test = []\n",
    "            # accuracies_train = []\n",
    "\n",
    "            # if ((config.eval_every and step % config.eval_every == 0) or (step == total_steps)):\n",
    "\n",
    "            for test_batch in input_pipeline.prefetch(ds_test, config.prefetch):\n",
    "                logits_test = infer_fn_repl(dict(params=opt_repl.target), test_batch['image'])\n",
    "                accuracies_test.append((np.argmax(logits_test,axis=-1) ==np.argmax(test_batch['label'],axis=-1)).mean())\n",
    "                    \n",
    "            accuracy_test.append(np.mean(accuracies_test))  \n",
    "        \n",
    "            # for train_batch in input_pipeline.prefetch(ds_train, config.prefetch):\n",
    "            #     logits_train = infer_fn_repl(dict(params=opt_repl.target), train_batch['image'])\n",
    "            #     accuracies_train.append((np.argmax(logits_train,axis=-1) ==np.argmax(train_batch['label'],axis=-1)).mean())\n",
    "                    \n",
    "            # accuracy_train.append(np.mean(accuracies_train))  \n",
    "        \n",
    "        dump(losses,results_path+'losses_'+str(name)+'_384.joblib')\n",
    "        dump(lrs,results_path+'lrs_'+str(name)+'_384.joblib')\n",
    "        dump(accuracy_test,results_path+'accuracy_test_'+str(name)+'_384.joblib')\n",
    "        # dump(accuracy_train,results_path+'accuracy_train'+str(name)+'.joblib')\n",
    "\n",
    "        metrics_plot( losses = losses, lrs = lrs ) \n",
    "        metrics_plot( accuracy_test = accuracy_test ) \n",
    "\n",
    "    return losses , lrs ,  accuracy_test "
   ]
  },
  {
   "cell_type": "code",
   "execution_count": 32,
   "metadata": {
    "colab": {
     "base_uri": "https://localhost:8080/",
     "height": 577
    },
    "executionInfo": {
     "elapsed": 2346,
     "status": "ok",
     "timestamp": 1650720419975,
     "user": {
      "displayName": "Benoit Da Costa",
      "userId": "10822162243447519168"
     },
     "user_tz": -120
    },
    "id": "25pE2t0PKZ-q",
    "outputId": "8e815c58-cb7f-4bc8-8438-6399ca056c65"
   },
   "outputs": [
    {
     "data": {
      "image/png": "[encoded data removed]",
      "text/plain": [
       "<Figure size 576x288 with 2 Axes>"
      ]
     },
     "metadata": {
      "needs_background": "light"
     },
     "output_type": "display_data"
    },
    {
     "data": {
      "image/png": "[encoded data removed]",
      "text/plain": [
       "<Figure size 288x288 with 1 Axes>"
      ]
     },
     "metadata": {
      "needs_background": "light"
     },
     "output_type": "display_data"
    }
   ],
   "source": [
    "losses , lrs , accuracy_test  = fit_vit(name ='ViT_Finetune', opt_repl = opt_repl , update_rng_repl = update_rng_repl ,total_steps = total_steps)"
   ]
  },
  {
   "cell_type": "code",
   "execution_count": 33,
   "metadata": {
    "colab": {
     "base_uri": "https://localhost:8080/"
    },
    "executionInfo": {
     "elapsed": 77382,
     "status": "ok",
     "timestamp": 1650720497348,
     "user": {
      "displayName": "Benoit Da Costa",
      "userId": "10822162243447519168"
     },
     "user_tz": -120
    },
    "id": "e3ykFMptIwSc",
    "outputId": "58f04221-fb49-45ae-a51c-18e226f6bae5"
   },
   "outputs": [
    {
     "name": "stdout",
     "output_type": "stream",
     "text": [
      "Found 9422 files belonging to 200 classes.\n",
      "Found 2175 files belonging to 200 classes.\n",
      "37 9\n",
      "accum_steps: 8\n",
      "base_lr: 0.03\n",
      "batch: 512\n",
      "batch_eval: 512\n",
      "checkpoint_every: 1000\n",
      "dataset: imagenet2012\n",
      "decay_type: cosine\n",
      "eval_every: 100\n",
      "grad_norm_clip: 1.0\n",
      "model: null\n",
      "model_or_filename: null\n",
      "optim_dtype: bfloat16\n",
      "pp: {crop: 384, test: test, train: train}\n",
      "prefetch: 2\n",
      "pretrained_dir: .\n",
      "progress_every: 10\n",
      "shuffle_buffer: 50000\n",
      "tfds_data_dir: null\n",
      "tfds_manual_dir: null\n",
      "total_steps: 20000\n",
      "trainer: train\n",
      "warmup_steps: 500\n",
      "\n",
      "accum_steps: 8\n",
      "base_lr: 0.03\n",
      "batch: 256\n",
      "batch_eval: 256\n",
      "checkpoint_every: 1000\n",
      "dataset: /content/drive/MyDrive/Colab Notebooks/P07//Dataset/Dataset_birds/\n",
      "decay_type: cosine\n",
      "eval_every: 100\n",
      "grad_norm_clip: 1.0\n",
      "model: null\n",
      "model_or_filename: null\n",
      "optim_dtype: bfloat16\n",
      "pp: {crop: 384, test: test, train: train}\n",
      "prefetch: 2\n",
      "pretrained_dir: .\n",
      "progress_every: 10\n",
      "shuffle_buffer: 50000\n",
      "tfds_data_dir: null\n",
      "tfds_manual_dir: null\n",
      "total_steps: 20000\n",
      "trainer: train\n",
      "warmup_steps: 500\n",
      "\n",
      "choix entre le modèle : ViT-B_32 ; Mixer-B_16\n",
      "modèle choisi ViT-B_32\n",
      "\n",
      "classifier: token\n",
      "hidden_size: 768\n",
      "model_name: ViT-B_32\n",
      "patches:\n",
      "  size: !!python/tuple [32, 32]\n",
      "representation_size: null\n",
      "transformer: {attention_dropout_rate: 0.0, dropout_rate: 0.0, mlp_dim: 3072, num_heads: 12,\n",
      "  num_layers: 12}\n",
      "\n"
     ]
    },
    {
     "name": "stderr",
     "output_type": "stream",
     "text": [
      "INFO:absl:Inspect extra keys:\n",
      "{'pre_logits/kernel', 'pre_logits/bias'}\n",
      "INFO:absl:load_pretrained: drop-head variant\n",
      "INFO:absl:load_pretrained: resized variant: (1, 50, 768) to (1, 145, 768)\n",
      "INFO:absl:load_pretrained: grid-size from 7 to 12\n",
      "/usr/local/lib/python3.7/dist-packages/flax/optim/base.py:52: DeprecationWarning: Use `optax` instead of `flax.optim`. Refer to the update guide https://flax.readthedocs.io/en/latest/howtos/optax_update_guide.html for detailed instructions.\n",
      "  'for detailed instructions.', DeprecationWarning)\n"
     ]
    },
    {
     "name": "stdout",
     "output_type": "stream",
     "text": [
      "params.cls: DeviceArray (200,)\n",
      "params_repl.cls: ShardedDeviceArray (1, 200)\n"
     ]
    }
   ],
   "source": [
    "img_shape = (229,229,3)\n",
    "batch_size = 256\n",
    "path_dir, train_path, test_path , val_path, pred_path , models_path , results_path = choice_path('birds',  aug_data = False)\n",
    "\n",
    "train_dataset, validation_dataset, steps_per_epoch_train, steps_per_epoch_test,class_names = process_files(train_path, test_path , img_shape)\n",
    "num_classes=len(class_names)\n",
    "\n",
    "ds_train, ds_test , batch , config = config_vit(path_dir, train_path, test_path , aug_data = False)\n",
    "# model_name : [\"ViT-B_32\", \"Mixer-B_16\"]\n",
    "print('choix entre le modèle : ViT-B_32 ; Mixer-B_16')\n",
    "\n",
    "model_name = \"ViT-B_32\"\n",
    "print(f'modèle choisi {model_name}\\n') \n",
    "model, model_config, variables, params, params_repl, vit_apply_repl = config_model(model_name,batch )\n",
    "\n",
    "lr_fn , update_fn_repl , infer_fn_repl , opt , opt_repl , update_rng_repl , total_steps = param_vit()"
   ]
  },
  {
   "cell_type": "code",
   "execution_count": 34,
   "metadata": {
    "colab": {
     "base_uri": "https://localhost:8080/",
     "height": 577
    },
    "executionInfo": {
     "elapsed": 2129,
     "status": "ok",
     "timestamp": 1650720499463,
     "user": {
      "displayName": "Benoit Da Costa",
      "userId": "10822162243447519168"
     },
     "user_tz": -120
    },
    "id": "HKL9t9hYh4Ya",
    "outputId": "7625260d-911f-4ad2-b268-c28412b6a478"
   },
   "outputs": [
    {
     "data": {
      "image/png": "[encoded data removed]",
      "text/plain": [
       "<Figure size 576x288 with 2 Axes>"
      ]
     },
     "metadata": {
      "needs_background": "light"
     },
     "output_type": "display_data"
    },
    {
     "data": {
      "image/png": "[encoded data removed]",
      "text/plain": [
       "<Figure size 288x288 with 1 Axes>"
      ]
     },
     "metadata": {
      "needs_background": "light"
     },
     "output_type": "display_data"
    }
   ],
   "source": [
    "losses_birds , lrs_birds , accuracy_test_birds = fit_vit(name ='ViT_Finetune', opt_repl = opt_repl , update_rng_repl = update_rng_repl, total_steps= total_steps )"
   ]
  },
  {
   "cell_type": "code",
   "execution_count": 35,
   "metadata": {
    "colab": {
     "base_uri": "https://localhost:8080/"
    },
    "executionInfo": {
     "elapsed": 16,
     "status": "ok",
     "timestamp": 1650720499464,
     "user": {
      "displayName": "Benoit Da Costa",
      "userId": "10822162243447519168"
     },
     "user_tz": -120
    },
    "id": "TGav-inUzsip",
    "outputId": "e9847512-254e-48af-f5fb-0af14dc32f21"
   },
   "outputs": [
    {
     "data": {
      "text/plain": [
       "(0.8044271, 0.68408203)"
      ]
     },
     "execution_count": 35,
     "metadata": {},
     "output_type": "execute_result"
    }
   ],
   "source": [
    "accuracy_test[-1], accuracy_test_birds[-1]"
   ]
  }
 ],
 "metadata": {
  "accelerator": "GPU",
  "colab": {
   "collapsed_sections": [],
   "machine_shape": "hm",
   "name": "P07_Notebook_06_sans_aug_data384.ipynb",
   "provenance": [
    {
     "file_id": "1_2i-ZHHA8HD2pQiijvl465zZdeVHm7on",
     "timestamp": 1647439968775
    }
   ]
  },
  "kernelspec": {
   "display_name": "Python 3 (ipykernel)",
   "language": "python",
   "name": "python3"
  },
  "language_info": {
   "codemirror_mode": {
    "name": "ipython",
    "version": 3
   },
   "file_extension": ".py",
   "mimetype": "text/x-python",
   "name": "python",
   "nbconvert_exporter": "python",
   "pygments_lexer": "ipython3",
   "version": "3.9.12"
  }
 },
 "nbformat": 4,
 "nbformat_minor": 1
}
